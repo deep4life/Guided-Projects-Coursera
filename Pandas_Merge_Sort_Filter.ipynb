{
  "nbformat": 4,
  "nbformat_minor": 0,
  "metadata": {
    "colab": {
      "name": "Pandas_Merge_Sort_Filter.ipynb",
      "provenance": []
    },
    "kernelspec": {
      "name": "python3",
      "display_name": "Python 3"
    }
  },
  "cells": [
    {
      "cell_type": "markdown",
      "metadata": {
        "id": "2YrdyiL34aZJ"
      },
      "source": [
        "# Pandas- Merge, Sort, Filter"
      ]
    },
    {
      "cell_type": "markdown",
      "metadata": {
        "id": "iZ58wGZh4zYp"
      },
      "source": [
        "In this notebook we'll use merge, sort and filter methods on the given datasets"
      ]
    },
    {
      "cell_type": "code",
      "metadata": {
        "id": "hLielccy3TFY"
      },
      "source": [
        "#Importing the necessary libraries\n",
        "import pandas as pd\n",
        "import matplotlib.pyplot as plt\n",
        "import seaborn as sns\n",
        "%matplotlib inline"
      ],
      "execution_count": 1,
      "outputs": []
    },
    {
      "cell_type": "markdown",
      "metadata": {
        "id": "OR6sJwS95H6C"
      },
      "source": [
        "There are two datasets. Yearly temperature and rainfall."
      ]
    },
    {
      "cell_type": "markdown",
      "metadata": {
        "id": "cCdGJYkm5hPd"
      },
      "source": [
        "# Task 1: Read the data into a Pandas DataFrame"
      ]
    },
    {
      "cell_type": "markdown",
      "metadata": {
        "id": "fjzvKOCI54kd"
      },
      "source": [
        "![image.png](data:image/png;base64,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)"
      ]
    },
    {
      "cell_type": "code",
      "metadata": {
        "id": "BEY20Rrl36za"
      },
      "source": [
        "df_temp = pd.read_csv(\"/content/tempYearly.csv\")\n",
        "df_rain = pd.read_csv(\"/content/rainYearly.csv\")"
      ],
      "execution_count": 2,
      "outputs": []
    },
    {
      "cell_type": "code",
      "metadata": {
        "id": "I-EF06D44Mji",
        "outputId": "e25532cd-eced-4143-a79c-6f8d516da68a",
        "colab": {
          "base_uri": "https://localhost:8080/",
          "height": 204
        }
      },
      "source": [
        "df_temp.head()"
      ],
      "execution_count": 3,
      "outputs": [
        {
          "output_type": "execute_result",
          "data": {
            "text/html": [
              "<div>\n",
              "<style scoped>\n",
              "    .dataframe tbody tr th:only-of-type {\n",
              "        vertical-align: middle;\n",
              "    }\n",
              "\n",
              "    .dataframe tbody tr th {\n",
              "        vertical-align: top;\n",
              "    }\n",
              "\n",
              "    .dataframe thead th {\n",
              "        text-align: right;\n",
              "    }\n",
              "</style>\n",
              "<table border=\"1\" class=\"dataframe\">\n",
              "  <thead>\n",
              "    <tr style=\"text-align: right;\">\n",
              "      <th></th>\n",
              "      <th>Year</th>\n",
              "      <th>Temperature</th>\n",
              "    </tr>\n",
              "  </thead>\n",
              "  <tbody>\n",
              "    <tr>\n",
              "      <th>0</th>\n",
              "      <td>1956</td>\n",
              "      <td>16.99</td>\n",
              "    </tr>\n",
              "    <tr>\n",
              "      <th>1</th>\n",
              "      <td>1957</td>\n",
              "      <td>10.34</td>\n",
              "    </tr>\n",
              "    <tr>\n",
              "      <th>2</th>\n",
              "      <td>1958</td>\n",
              "      <td>21.01</td>\n",
              "    </tr>\n",
              "    <tr>\n",
              "      <th>3</th>\n",
              "      <td>1959</td>\n",
              "      <td>23.68</td>\n",
              "    </tr>\n",
              "    <tr>\n",
              "      <th>4</th>\n",
              "      <td>1960</td>\n",
              "      <td>24.59</td>\n",
              "    </tr>\n",
              "  </tbody>\n",
              "</table>\n",
              "</div>"
            ],
            "text/plain": [
              "   Year  Temperature\n",
              "0  1956        16.99\n",
              "1  1957        10.34\n",
              "2  1958        21.01\n",
              "3  1959        23.68\n",
              "4  1960        24.59"
            ]
          },
          "metadata": {
            "tags": []
          },
          "execution_count": 3
        }
      ]
    },
    {
      "cell_type": "code",
      "metadata": {
        "id": "vgX4CPso6LzL",
        "outputId": "e697773a-ee6d-4d64-ea89-ecc702e3e2af",
        "colab": {
          "base_uri": "https://localhost:8080/",
          "height": 204
        }
      },
      "source": [
        "df_rain.head()"
      ],
      "execution_count": 4,
      "outputs": [
        {
          "output_type": "execute_result",
          "data": {
            "text/html": [
              "<div>\n",
              "<style scoped>\n",
              "    .dataframe tbody tr th:only-of-type {\n",
              "        vertical-align: middle;\n",
              "    }\n",
              "\n",
              "    .dataframe tbody tr th {\n",
              "        vertical-align: top;\n",
              "    }\n",
              "\n",
              "    .dataframe thead th {\n",
              "        text-align: right;\n",
              "    }\n",
              "</style>\n",
              "<table border=\"1\" class=\"dataframe\">\n",
              "  <thead>\n",
              "    <tr style=\"text-align: right;\">\n",
              "      <th></th>\n",
              "      <th>Year</th>\n",
              "      <th>Rainfall</th>\n",
              "    </tr>\n",
              "  </thead>\n",
              "  <tbody>\n",
              "    <tr>\n",
              "      <th>0</th>\n",
              "      <td>1956</td>\n",
              "      <td>1.01</td>\n",
              "    </tr>\n",
              "    <tr>\n",
              "      <th>1</th>\n",
              "      <td>1957</td>\n",
              "      <td>1.66</td>\n",
              "    </tr>\n",
              "    <tr>\n",
              "      <th>2</th>\n",
              "      <td>1958</td>\n",
              "      <td>3.50</td>\n",
              "    </tr>\n",
              "    <tr>\n",
              "      <th>3</th>\n",
              "      <td>1959</td>\n",
              "      <td>3.31</td>\n",
              "    </tr>\n",
              "    <tr>\n",
              "      <th>4</th>\n",
              "      <td>1960</td>\n",
              "      <td>3.61</td>\n",
              "    </tr>\n",
              "  </tbody>\n",
              "</table>\n",
              "</div>"
            ],
            "text/plain": [
              "   Year  Rainfall\n",
              "0  1956      1.01\n",
              "1  1957      1.66\n",
              "2  1958      3.50\n",
              "3  1959      3.31\n",
              "4  1960      3.61"
            ]
          },
          "metadata": {
            "tags": []
          },
          "execution_count": 4
        }
      ]
    },
    {
      "cell_type": "code",
      "metadata": {
        "id": "9YHm6pCK6N-T",
        "outputId": "a37e7d58-bf3a-4139-9d4c-edef9f3ea2c9",
        "colab": {
          "base_uri": "https://localhost:8080/",
          "height": 296
        }
      },
      "source": [
        "#Scatterplot for temperature\n",
        "sns.scatterplot(x='Year', y='Temperature', data=df_temp)"
      ],
      "execution_count": 5,
      "outputs": [
        {
          "output_type": "execute_result",
          "data": {
            "text/plain": [
              "<matplotlib.axes._subplots.AxesSubplot at 0x7f5ab5b25048>"
            ]
          },
          "metadata": {
            "tags": []
          },
          "execution_count": 5
        },
        {
          "output_type": "display_data",
          "data": {
            "image/png": "[encoded data removed]",
            "text/plain": [
              "<Figure size 432x288 with 1 Axes>"
            ]
          },
          "metadata": {
            "tags": [],
            "needs_background": "light"
          }
        }
      ]
    },
    {
      "cell_type": "code",
      "metadata": {
        "id": "DfPSjyZN6qE9",
        "outputId": "aa77b0f7-c64a-4520-80d7-2b9e5461c670",
        "colab": {
          "base_uri": "https://localhost:8080/",
          "height": 296
        }
      },
      "source": [
        "#Scatterplot for rainfall\n",
        "sns.scatterplot(x='Year', y='Rainfall', data=df_rain)"
      ],
      "execution_count": 6,
      "outputs": [
        {
          "output_type": "execute_result",
          "data": {
            "text/plain": [
              "<matplotlib.axes._subplots.AxesSubplot at 0x7f5ab47dba90>"
            ]
          },
          "metadata": {
            "tags": []
          },
          "execution_count": 6
        },
        {
          "output_type": "display_data",
          "data": {
            "image/png": "[encoded data removed]",
            "text/plain": [
              "<Figure size 432x288 with 1 Axes>"
            ]
          },
          "metadata": {
            "tags": [],
            "needs_background": "light"
          }
        }
      ]
    },
    {
      "cell_type": "markdown",
      "metadata": {
        "id": "_YYkvIm-8XJN"
      },
      "source": [
        "The data points that are far off from the rest of the data are called outliers. We cn find them in both the datasets."
      ]
    },
    {
      "cell_type": "markdown",
      "metadata": {
        "id": "NwzS1hW39vcT"
      },
      "source": [
        "![image.png](data:image/png;base64,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)"
      ]
    },
    {
      "cell_type": "markdown",
      "metadata": {
        "id": "8BZOf9ed7kkW"
      },
      "source": [
        "![image.png](data:image/png;base64,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)"
      ]
    },
    {
      "cell_type": "markdown",
      "metadata": {
        "id": "J0qZFNMgALKL"
      },
      "source": [
        "Since the most of our data lies between 0 ans 40 degrees,\n",
        "let's take that as the limit for the data"
      ]
    },
    {
      "cell_type": "code",
      "metadata": {
        "id": "9Wo3i0nJ6p5Q"
      },
      "source": [
        "df_temp_f = df_temp.query('Temperature < 40 & Temperature > 0')"
      ],
      "execution_count": 7,
      "outputs": []
    },
    {
      "cell_type": "markdown",
      "metadata": {
        "id": "u05Gw_ANAD8y"
      },
      "source": [
        "Let's plot to check if the outliers are removed"
      ]
    },
    {
      "cell_type": "code",
      "metadata": {
        "id": "aT2naO0h_78W",
        "outputId": "28190506-4d48-4395-e1b4-bb7a9a320f52",
        "colab": {
          "base_uri": "https://localhost:8080/",
          "height": 296
        }
      },
      "source": [
        "sns.scatterplot(x='Year', y='Temperature', data=df_temp_f)"
      ],
      "execution_count": 8,
      "outputs": [
        {
          "output_type": "execute_result",
          "data": {
            "text/plain": [
              "<matplotlib.axes._subplots.AxesSubplot at 0x7f5ab4314438>"
            ]
          },
          "metadata": {
            "tags": []
          },
          "execution_count": 8
        },
        {
          "output_type": "display_data",
          "data": {
            "image/png": "[encoded data removed]",
            "text/plain": [
              "<Figure size 432x288 with 1 Axes>"
            ]
          },
          "metadata": {
            "tags": [],
            "needs_background": "light"
          }
        }
      ]
    },
    {
      "cell_type": "markdown",
      "metadata": {
        "id": "9iPFonR2Al1R"
      },
      "source": [
        "Let's Do the same with the rainfall data"
      ]
    },
    {
      "cell_type": "code",
      "metadata": {
        "id": "TM4gJna2AqCt",
        "outputId": "f2c67bc7-4689-495a-aa8e-ec0fca6bda71",
        "colab": {
          "base_uri": "https://localhost:8080/",
          "height": 296
        }
      },
      "source": [
        "df_rain_f = df_rain.query('Rainfall < 6 & Rainfall > 1')\n",
        "sns.scatterplot(x='Year', y='Rainfall', data=df_rain_f)"
      ],
      "execution_count": 9,
      "outputs": [
        {
          "output_type": "execute_result",
          "data": {
            "text/plain": [
              "<matplotlib.axes._subplots.AxesSubplot at 0x7f5ab4289780>"
            ]
          },
          "metadata": {
            "tags": []
          },
          "execution_count": 9
        },
        {
          "output_type": "display_data",
          "data": {
            "image/png": "[encoded data removed]",
            "text/plain": [
              "<Figure size 432x288 with 1 Axes>"
            ]
          },
          "metadata": {
            "tags": [],
            "needs_background": "light"
          }
        }
      ]
    },
    {
      "cell_type": "markdown",
      "metadata": {
        "id": "fIxBanQcB6nw"
      },
      "source": [
        "\n",
        "![image.png](data:image/png;base64,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)\n"
      ]
    },
    {
      "cell_type": "markdown",
      "metadata": {
        "id": "NfgvnvlaCCY7"
      },
      "source": [
        "![image.png](data:image/png;base64,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)"
      ]
    },
    {
      "cell_type": "code",
      "metadata": {
        "id": "uVBVscZt6put",
        "outputId": "43e98c8c-7661-40da-e47c-83e80a3b3895",
        "colab": {
          "base_uri": "https://localhost:8080/",
          "height": 419
        }
      },
      "source": [
        "df_merge = pd.merge(df_temp_f, df_rain_f, on='Year', how='outer')\n",
        "df_merge"
      ],
      "execution_count": 10,
      "outputs": [
        {
          "output_type": "execute_result",
          "data": {
            "text/html": [
              "<div>\n",
              "<style scoped>\n",
              "    .dataframe tbody tr th:only-of-type {\n",
              "        vertical-align: middle;\n",
              "    }\n",
              "\n",
              "    .dataframe tbody tr th {\n",
              "        vertical-align: top;\n",
              "    }\n",
              "\n",
              "    .dataframe thead th {\n",
              "        text-align: right;\n",
              "    }\n",
              "</style>\n",
              "<table border=\"1\" class=\"dataframe\">\n",
              "  <thead>\n",
              "    <tr style=\"text-align: right;\">\n",
              "      <th></th>\n",
              "      <th>Year</th>\n",
              "      <th>Temperature</th>\n",
              "      <th>Rainfall</th>\n",
              "    </tr>\n",
              "  </thead>\n",
              "  <tbody>\n",
              "    <tr>\n",
              "      <th>0</th>\n",
              "      <td>1956</td>\n",
              "      <td>16.99</td>\n",
              "      <td>1.01</td>\n",
              "    </tr>\n",
              "    <tr>\n",
              "      <th>1</th>\n",
              "      <td>1957</td>\n",
              "      <td>10.34</td>\n",
              "      <td>1.66</td>\n",
              "    </tr>\n",
              "    <tr>\n",
              "      <th>2</th>\n",
              "      <td>1958</td>\n",
              "      <td>21.01</td>\n",
              "      <td>3.50</td>\n",
              "    </tr>\n",
              "    <tr>\n",
              "      <th>3</th>\n",
              "      <td>1959</td>\n",
              "      <td>23.68</td>\n",
              "      <td>3.31</td>\n",
              "    </tr>\n",
              "    <tr>\n",
              "      <th>4</th>\n",
              "      <td>1960</td>\n",
              "      <td>24.59</td>\n",
              "      <td>3.61</td>\n",
              "    </tr>\n",
              "    <tr>\n",
              "      <th>...</th>\n",
              "      <td>...</td>\n",
              "      <td>...</td>\n",
              "      <td>...</td>\n",
              "    </tr>\n",
              "    <tr>\n",
              "      <th>56</th>\n",
              "      <td>2014</td>\n",
              "      <td>11.24</td>\n",
              "      <td>1.76</td>\n",
              "    </tr>\n",
              "    <tr>\n",
              "      <th>57</th>\n",
              "      <td>2016</td>\n",
              "      <td>20.29</td>\n",
              "      <td>3.21</td>\n",
              "    </tr>\n",
              "    <tr>\n",
              "      <th>58</th>\n",
              "      <td>2017</td>\n",
              "      <td>13.81</td>\n",
              "      <td>2.00</td>\n",
              "    </tr>\n",
              "    <tr>\n",
              "      <th>59</th>\n",
              "      <td>1971</td>\n",
              "      <td>NaN</td>\n",
              "      <td>3.92</td>\n",
              "    </tr>\n",
              "    <tr>\n",
              "      <th>60</th>\n",
              "      <td>1975</td>\n",
              "      <td>NaN</td>\n",
              "      <td>3.35</td>\n",
              "    </tr>\n",
              "  </tbody>\n",
              "</table>\n",
              "<p>61 rows × 3 columns</p>\n",
              "</div>"
            ],
            "text/plain": [
              "    Year  Temperature  Rainfall\n",
              "0   1956        16.99      1.01\n",
              "1   1957        10.34      1.66\n",
              "2   1958        21.01      3.50\n",
              "3   1959        23.68      3.31\n",
              "4   1960        24.59      3.61\n",
              "..   ...          ...       ...\n",
              "56  2014        11.24      1.76\n",
              "57  2016        20.29      3.21\n",
              "58  2017        13.81      2.00\n",
              "59  1971          NaN      3.92\n",
              "60  1975          NaN      3.35\n",
              "\n",
              "[61 rows x 3 columns]"
            ]
          },
          "metadata": {
            "tags": []
          },
          "execution_count": 10
        }
      ]
    },
    {
      "cell_type": "markdown",
      "metadata": {
        "id": "WvU3C3mTC0SG"
      },
      "source": [
        "We get NaNs for the entries that we don't have data for."
      ]
    },
    {
      "cell_type": "code",
      "metadata": {
        "id": "LRAjjcckB9C5",
        "outputId": "a374b08f-3bd4-4280-c7a2-6dd0fc68e3de",
        "colab": {
          "base_uri": "https://localhost:8080/",
          "height": 1000
        }
      },
      "source": [
        "df_merge_i= pd.merge(df_temp_f, df_rain_f, on='Year', how='inner')\n",
        "df_merge_i"
      ],
      "execution_count": 11,
      "outputs": [
        {
          "output_type": "execute_result",
          "data": {
            "text/html": [
              "<div>\n",
              "<style scoped>\n",
              "    .dataframe tbody tr th:only-of-type {\n",
              "        vertical-align: middle;\n",
              "    }\n",
              "\n",
              "    .dataframe tbody tr th {\n",
              "        vertical-align: top;\n",
              "    }\n",
              "\n",
              "    .dataframe thead th {\n",
              "        text-align: right;\n",
              "    }\n",
              "</style>\n",
              "<table border=\"1\" class=\"dataframe\">\n",
              "  <thead>\n",
              "    <tr style=\"text-align: right;\">\n",
              "      <th></th>\n",
              "      <th>Year</th>\n",
              "      <th>Temperature</th>\n",
              "      <th>Rainfall</th>\n",
              "    </tr>\n",
              "  </thead>\n",
              "  <tbody>\n",
              "    <tr>\n",
              "      <th>0</th>\n",
              "      <td>1956</td>\n",
              "      <td>16.99</td>\n",
              "      <td>1.01</td>\n",
              "    </tr>\n",
              "    <tr>\n",
              "      <th>1</th>\n",
              "      <td>1957</td>\n",
              "      <td>10.34</td>\n",
              "      <td>1.66</td>\n",
              "    </tr>\n",
              "    <tr>\n",
              "      <th>2</th>\n",
              "      <td>1958</td>\n",
              "      <td>21.01</td>\n",
              "      <td>3.50</td>\n",
              "    </tr>\n",
              "    <tr>\n",
              "      <th>3</th>\n",
              "      <td>1959</td>\n",
              "      <td>23.68</td>\n",
              "      <td>3.31</td>\n",
              "    </tr>\n",
              "    <tr>\n",
              "      <th>4</th>\n",
              "      <td>1960</td>\n",
              "      <td>24.59</td>\n",
              "      <td>3.61</td>\n",
              "    </tr>\n",
              "    <tr>\n",
              "      <th>5</th>\n",
              "      <td>1961</td>\n",
              "      <td>25.29</td>\n",
              "      <td>4.71</td>\n",
              "    </tr>\n",
              "    <tr>\n",
              "      <th>6</th>\n",
              "      <td>1962</td>\n",
              "      <td>8.77</td>\n",
              "      <td>2.00</td>\n",
              "    </tr>\n",
              "    <tr>\n",
              "      <th>7</th>\n",
              "      <td>1963</td>\n",
              "      <td>26.88</td>\n",
              "      <td>3.12</td>\n",
              "    </tr>\n",
              "    <tr>\n",
              "      <th>8</th>\n",
              "      <td>1964</td>\n",
              "      <td>15.04</td>\n",
              "      <td>1.96</td>\n",
              "    </tr>\n",
              "    <tr>\n",
              "      <th>9</th>\n",
              "      <td>1965</td>\n",
              "      <td>14.78</td>\n",
              "      <td>3.23</td>\n",
              "    </tr>\n",
              "    <tr>\n",
              "      <th>10</th>\n",
              "      <td>1966</td>\n",
              "      <td>10.27</td>\n",
              "      <td>1.71</td>\n",
              "    </tr>\n",
              "    <tr>\n",
              "      <th>11</th>\n",
              "      <td>1967</td>\n",
              "      <td>35.26</td>\n",
              "      <td>5.00</td>\n",
              "    </tr>\n",
              "    <tr>\n",
              "      <th>12</th>\n",
              "      <td>1968</td>\n",
              "      <td>15.42</td>\n",
              "      <td>1.57</td>\n",
              "    </tr>\n",
              "    <tr>\n",
              "      <th>13</th>\n",
              "      <td>1970</td>\n",
              "      <td>14.83</td>\n",
              "      <td>3.02</td>\n",
              "    </tr>\n",
              "    <tr>\n",
              "      <th>14</th>\n",
              "      <td>1972</td>\n",
              "      <td>12.33</td>\n",
              "      <td>1.67</td>\n",
              "    </tr>\n",
              "    <tr>\n",
              "      <th>15</th>\n",
              "      <td>1973</td>\n",
              "      <td>16.29</td>\n",
              "      <td>3.71</td>\n",
              "    </tr>\n",
              "    <tr>\n",
              "      <th>16</th>\n",
              "      <td>1974</td>\n",
              "      <td>16.97</td>\n",
              "      <td>3.50</td>\n",
              "    </tr>\n",
              "    <tr>\n",
              "      <th>17</th>\n",
              "      <td>1976</td>\n",
              "      <td>17.92</td>\n",
              "      <td>4.08</td>\n",
              "    </tr>\n",
              "    <tr>\n",
              "      <th>18</th>\n",
              "      <td>1977</td>\n",
              "      <td>20.29</td>\n",
              "      <td>2.75</td>\n",
              "    </tr>\n",
              "    <tr>\n",
              "      <th>19</th>\n",
              "      <td>1978</td>\n",
              "      <td>15.77</td>\n",
              "      <td>2.23</td>\n",
              "    </tr>\n",
              "    <tr>\n",
              "      <th>20</th>\n",
              "      <td>1980</td>\n",
              "      <td>19.82</td>\n",
              "      <td>3.18</td>\n",
              "    </tr>\n",
              "    <tr>\n",
              "      <th>21</th>\n",
              "      <td>1981</td>\n",
              "      <td>17.81</td>\n",
              "      <td>2.34</td>\n",
              "    </tr>\n",
              "    <tr>\n",
              "      <th>22</th>\n",
              "      <td>1982</td>\n",
              "      <td>13.37</td>\n",
              "      <td>2.00</td>\n",
              "    </tr>\n",
              "    <tr>\n",
              "      <th>23</th>\n",
              "      <td>1983</td>\n",
              "      <td>12.69</td>\n",
              "      <td>2.00</td>\n",
              "    </tr>\n",
              "    <tr>\n",
              "      <th>24</th>\n",
              "      <td>1984</td>\n",
              "      <td>21.70</td>\n",
              "      <td>4.30</td>\n",
              "    </tr>\n",
              "    <tr>\n",
              "      <th>25</th>\n",
              "      <td>1985</td>\n",
              "      <td>19.65</td>\n",
              "      <td>3.00</td>\n",
              "    </tr>\n",
              "    <tr>\n",
              "      <th>26</th>\n",
              "      <td>1986</td>\n",
              "      <td>9.55</td>\n",
              "      <td>1.45</td>\n",
              "    </tr>\n",
              "    <tr>\n",
              "      <th>27</th>\n",
              "      <td>1987</td>\n",
              "      <td>18.35</td>\n",
              "      <td>2.50</td>\n",
              "    </tr>\n",
              "    <tr>\n",
              "      <th>28</th>\n",
              "      <td>1988</td>\n",
              "      <td>15.06</td>\n",
              "      <td>3.00</td>\n",
              "    </tr>\n",
              "    <tr>\n",
              "      <th>29</th>\n",
              "      <td>1989</td>\n",
              "      <td>20.69</td>\n",
              "      <td>2.45</td>\n",
              "    </tr>\n",
              "    <tr>\n",
              "      <th>30</th>\n",
              "      <td>1991</td>\n",
              "      <td>24.06</td>\n",
              "      <td>3.60</td>\n",
              "    </tr>\n",
              "    <tr>\n",
              "      <th>31</th>\n",
              "      <td>1992</td>\n",
              "      <td>16.31</td>\n",
              "      <td>2.00</td>\n",
              "    </tr>\n",
              "    <tr>\n",
              "      <th>32</th>\n",
              "      <td>1993</td>\n",
              "      <td>16.93</td>\n",
              "      <td>3.07</td>\n",
              "    </tr>\n",
              "    <tr>\n",
              "      <th>33</th>\n",
              "      <td>1994</td>\n",
              "      <td>18.69</td>\n",
              "      <td>2.31</td>\n",
              "    </tr>\n",
              "    <tr>\n",
              "      <th>34</th>\n",
              "      <td>1995</td>\n",
              "      <td>31.27</td>\n",
              "      <td>5.00</td>\n",
              "    </tr>\n",
              "    <tr>\n",
              "      <th>35</th>\n",
              "      <td>1996</td>\n",
              "      <td>16.04</td>\n",
              "      <td>2.24</td>\n",
              "    </tr>\n",
              "    <tr>\n",
              "      <th>36</th>\n",
              "      <td>1997</td>\n",
              "      <td>17.46</td>\n",
              "      <td>2.54</td>\n",
              "    </tr>\n",
              "    <tr>\n",
              "      <th>37</th>\n",
              "      <td>1998</td>\n",
              "      <td>13.94</td>\n",
              "      <td>3.06</td>\n",
              "    </tr>\n",
              "    <tr>\n",
              "      <th>38</th>\n",
              "      <td>1999</td>\n",
              "      <td>9.68</td>\n",
              "      <td>1.32</td>\n",
              "    </tr>\n",
              "    <tr>\n",
              "      <th>39</th>\n",
              "      <td>2000</td>\n",
              "      <td>30.40</td>\n",
              "      <td>5.60</td>\n",
              "    </tr>\n",
              "    <tr>\n",
              "      <th>40</th>\n",
              "      <td>2001</td>\n",
              "      <td>18.29</td>\n",
              "      <td>3.00</td>\n",
              "    </tr>\n",
              "    <tr>\n",
              "      <th>41</th>\n",
              "      <td>2002</td>\n",
              "      <td>22.23</td>\n",
              "      <td>5.00</td>\n",
              "    </tr>\n",
              "    <tr>\n",
              "      <th>42</th>\n",
              "      <td>2004</td>\n",
              "      <td>28.55</td>\n",
              "      <td>2.05</td>\n",
              "    </tr>\n",
              "    <tr>\n",
              "      <th>43</th>\n",
              "      <td>2005</td>\n",
              "      <td>18.04</td>\n",
              "      <td>3.00</td>\n",
              "    </tr>\n",
              "    <tr>\n",
              "      <th>44</th>\n",
              "      <td>2006</td>\n",
              "      <td>12.54</td>\n",
              "      <td>2.50</td>\n",
              "    </tr>\n",
              "    <tr>\n",
              "      <th>45</th>\n",
              "      <td>2007</td>\n",
              "      <td>10.29</td>\n",
              "      <td>2.60</td>\n",
              "    </tr>\n",
              "    <tr>\n",
              "      <th>46</th>\n",
              "      <td>2008</td>\n",
              "      <td>34.81</td>\n",
              "      <td>5.20</td>\n",
              "    </tr>\n",
              "    <tr>\n",
              "      <th>47</th>\n",
              "      <td>2009</td>\n",
              "      <td>9.94</td>\n",
              "      <td>1.56</td>\n",
              "    </tr>\n",
              "    <tr>\n",
              "      <th>48</th>\n",
              "      <td>2010</td>\n",
              "      <td>25.56</td>\n",
              "      <td>4.34</td>\n",
              "    </tr>\n",
              "    <tr>\n",
              "      <th>49</th>\n",
              "      <td>2011</td>\n",
              "      <td>19.49</td>\n",
              "      <td>3.51</td>\n",
              "    </tr>\n",
              "    <tr>\n",
              "      <th>50</th>\n",
              "      <td>2012</td>\n",
              "      <td>38.01</td>\n",
              "      <td>3.00</td>\n",
              "    </tr>\n",
              "    <tr>\n",
              "      <th>51</th>\n",
              "      <td>2013</td>\n",
              "      <td>26.41</td>\n",
              "      <td>1.50</td>\n",
              "    </tr>\n",
              "    <tr>\n",
              "      <th>52</th>\n",
              "      <td>2014</td>\n",
              "      <td>11.24</td>\n",
              "      <td>1.76</td>\n",
              "    </tr>\n",
              "    <tr>\n",
              "      <th>53</th>\n",
              "      <td>2016</td>\n",
              "      <td>20.29</td>\n",
              "      <td>3.21</td>\n",
              "    </tr>\n",
              "    <tr>\n",
              "      <th>54</th>\n",
              "      <td>2017</td>\n",
              "      <td>13.81</td>\n",
              "      <td>2.00</td>\n",
              "    </tr>\n",
              "  </tbody>\n",
              "</table>\n",
              "</div>"
            ],
            "text/plain": [
              "    Year  Temperature  Rainfall\n",
              "0   1956        16.99      1.01\n",
              "1   1957        10.34      1.66\n",
              "2   1958        21.01      3.50\n",
              "3   1959        23.68      3.31\n",
              "4   1960        24.59      3.61\n",
              "5   1961        25.29      4.71\n",
              "6   1962         8.77      2.00\n",
              "7   1963        26.88      3.12\n",
              "8   1964        15.04      1.96\n",
              "9   1965        14.78      3.23\n",
              "10  1966        10.27      1.71\n",
              "11  1967        35.26      5.00\n",
              "12  1968        15.42      1.57\n",
              "13  1970        14.83      3.02\n",
              "14  1972        12.33      1.67\n",
              "15  1973        16.29      3.71\n",
              "16  1974        16.97      3.50\n",
              "17  1976        17.92      4.08\n",
              "18  1977        20.29      2.75\n",
              "19  1978        15.77      2.23\n",
              "20  1980        19.82      3.18\n",
              "21  1981        17.81      2.34\n",
              "22  1982        13.37      2.00\n",
              "23  1983        12.69      2.00\n",
              "24  1984        21.70      4.30\n",
              "25  1985        19.65      3.00\n",
              "26  1986         9.55      1.45\n",
              "27  1987        18.35      2.50\n",
              "28  1988        15.06      3.00\n",
              "29  1989        20.69      2.45\n",
              "30  1991        24.06      3.60\n",
              "31  1992        16.31      2.00\n",
              "32  1993        16.93      3.07\n",
              "33  1994        18.69      2.31\n",
              "34  1995        31.27      5.00\n",
              "35  1996        16.04      2.24\n",
              "36  1997        17.46      2.54\n",
              "37  1998        13.94      3.06\n",
              "38  1999         9.68      1.32\n",
              "39  2000        30.40      5.60\n",
              "40  2001        18.29      3.00\n",
              "41  2002        22.23      5.00\n",
              "42  2004        28.55      2.05\n",
              "43  2005        18.04      3.00\n",
              "44  2006        12.54      2.50\n",
              "45  2007        10.29      2.60\n",
              "46  2008        34.81      5.20\n",
              "47  2009         9.94      1.56\n",
              "48  2010        25.56      4.34\n",
              "49  2011        19.49      3.51\n",
              "50  2012        38.01      3.00\n",
              "51  2013        26.41      1.50\n",
              "52  2014        11.24      1.76\n",
              "53  2016        20.29      3.21\n",
              "54  2017        13.81      2.00"
            ]
          },
          "metadata": {
            "tags": []
          },
          "execution_count": 11
        }
      ]
    },
    {
      "cell_type": "markdown",
      "metadata": {
        "id": "te8lNWQeDGAT"
      },
      "source": [
        "While if we merge the data using an inner join, we get an intesection of the data and hence have no NaN values"
      ]
    },
    {
      "cell_type": "markdown",
      "metadata": {
        "id": "xjoy6quKDqSV"
      },
      "source": [
        "![image.png](data:image/png;base64,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)"
      ]
    },
    {
      "cell_type": "markdown",
      "metadata": {
        "id": "kijHdqFfDygN"
      },
      "source": [
        "![image.png](data:image/png;base64,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)"
      ]
    },
    {
      "cell_type": "code",
      "metadata": {
        "id": "JRAw96BnDW6Z",
        "outputId": "6af02886-f869-4cb7-ee4d-ebf0a7ce61e0",
        "colab": {
          "base_uri": "https://localhost:8080/",
          "height": 204
        }
      },
      "source": [
        "df_merge.sort_values(by='Temperature').head()"
      ],
      "execution_count": 12,
      "outputs": [
        {
          "output_type": "execute_result",
          "data": {
            "text/html": [
              "<div>\n",
              "<style scoped>\n",
              "    .dataframe tbody tr th:only-of-type {\n",
              "        vertical-align: middle;\n",
              "    }\n",
              "\n",
              "    .dataframe tbody tr th {\n",
              "        vertical-align: top;\n",
              "    }\n",
              "\n",
              "    .dataframe thead th {\n",
              "        text-align: right;\n",
              "    }\n",
              "</style>\n",
              "<table border=\"1\" class=\"dataframe\">\n",
              "  <thead>\n",
              "    <tr style=\"text-align: right;\">\n",
              "      <th></th>\n",
              "      <th>Year</th>\n",
              "      <th>Temperature</th>\n",
              "      <th>Rainfall</th>\n",
              "    </tr>\n",
              "  </thead>\n",
              "  <tbody>\n",
              "    <tr>\n",
              "      <th>6</th>\n",
              "      <td>1962</td>\n",
              "      <td>8.77</td>\n",
              "      <td>2.00</td>\n",
              "    </tr>\n",
              "    <tr>\n",
              "      <th>28</th>\n",
              "      <td>1986</td>\n",
              "      <td>9.55</td>\n",
              "      <td>1.45</td>\n",
              "    </tr>\n",
              "    <tr>\n",
              "      <th>41</th>\n",
              "      <td>1999</td>\n",
              "      <td>9.68</td>\n",
              "      <td>1.32</td>\n",
              "    </tr>\n",
              "    <tr>\n",
              "      <th>51</th>\n",
              "      <td>2009</td>\n",
              "      <td>9.94</td>\n",
              "      <td>1.56</td>\n",
              "    </tr>\n",
              "    <tr>\n",
              "      <th>10</th>\n",
              "      <td>1966</td>\n",
              "      <td>10.27</td>\n",
              "      <td>1.71</td>\n",
              "    </tr>\n",
              "  </tbody>\n",
              "</table>\n",
              "</div>"
            ],
            "text/plain": [
              "    Year  Temperature  Rainfall\n",
              "6   1962         8.77      2.00\n",
              "28  1986         9.55      1.45\n",
              "41  1999         9.68      1.32\n",
              "51  2009         9.94      1.56\n",
              "10  1966        10.27      1.71"
            ]
          },
          "metadata": {
            "tags": []
          },
          "execution_count": 12
        }
      ]
    },
    {
      "cell_type": "code",
      "metadata": {
        "id": "jSJLwSfbDrl3",
        "outputId": "9f7bfce2-ab1d-4c8e-c6ed-bafadd79d278",
        "colab": {
          "base_uri": "https://localhost:8080/",
          "height": 204
        }
      },
      "source": [
        "df_merge.sort_values(by='Rainfall').head()"
      ],
      "execution_count": 13,
      "outputs": [
        {
          "output_type": "execute_result",
          "data": {
            "text/html": [
              "<div>\n",
              "<style scoped>\n",
              "    .dataframe tbody tr th:only-of-type {\n",
              "        vertical-align: middle;\n",
              "    }\n",
              "\n",
              "    .dataframe tbody tr th {\n",
              "        vertical-align: top;\n",
              "    }\n",
              "\n",
              "    .dataframe thead th {\n",
              "        text-align: right;\n",
              "    }\n",
              "</style>\n",
              "<table border=\"1\" class=\"dataframe\">\n",
              "  <thead>\n",
              "    <tr style=\"text-align: right;\">\n",
              "      <th></th>\n",
              "      <th>Year</th>\n",
              "      <th>Temperature</th>\n",
              "      <th>Rainfall</th>\n",
              "    </tr>\n",
              "  </thead>\n",
              "  <tbody>\n",
              "    <tr>\n",
              "      <th>0</th>\n",
              "      <td>1956</td>\n",
              "      <td>16.99</td>\n",
              "      <td>1.01</td>\n",
              "    </tr>\n",
              "    <tr>\n",
              "      <th>41</th>\n",
              "      <td>1999</td>\n",
              "      <td>9.68</td>\n",
              "      <td>1.32</td>\n",
              "    </tr>\n",
              "    <tr>\n",
              "      <th>28</th>\n",
              "      <td>1986</td>\n",
              "      <td>9.55</td>\n",
              "      <td>1.45</td>\n",
              "    </tr>\n",
              "    <tr>\n",
              "      <th>55</th>\n",
              "      <td>2013</td>\n",
              "      <td>26.41</td>\n",
              "      <td>1.50</td>\n",
              "    </tr>\n",
              "    <tr>\n",
              "      <th>51</th>\n",
              "      <td>2009</td>\n",
              "      <td>9.94</td>\n",
              "      <td>1.56</td>\n",
              "    </tr>\n",
              "  </tbody>\n",
              "</table>\n",
              "</div>"
            ],
            "text/plain": [
              "    Year  Temperature  Rainfall\n",
              "0   1956        16.99      1.01\n",
              "41  1999         9.68      1.32\n",
              "28  1986         9.55      1.45\n",
              "55  2013        26.41      1.50\n",
              "51  2009         9.94      1.56"
            ]
          },
          "metadata": {
            "tags": []
          },
          "execution_count": 13
        }
      ]
    },
    {
      "cell_type": "code",
      "metadata": {
        "id": "lVh20OxWB6K_",
        "outputId": "49dad589-3176-469d-bc26-514c5190d2e5",
        "colab": {
          "base_uri": "https://localhost:8080/",
          "height": 419
        }
      },
      "source": [
        "df_merge.sort_values(by='Temperature', ascending=False)"
      ],
      "execution_count": 14,
      "outputs": [
        {
          "output_type": "execute_result",
          "data": {
            "text/html": [
              "<div>\n",
              "<style scoped>\n",
              "    .dataframe tbody tr th:only-of-type {\n",
              "        vertical-align: middle;\n",
              "    }\n",
              "\n",
              "    .dataframe tbody tr th {\n",
              "        vertical-align: top;\n",
              "    }\n",
              "\n",
              "    .dataframe thead th {\n",
              "        text-align: right;\n",
              "    }\n",
              "</style>\n",
              "<table border=\"1\" class=\"dataframe\">\n",
              "  <thead>\n",
              "    <tr style=\"text-align: right;\">\n",
              "      <th></th>\n",
              "      <th>Year</th>\n",
              "      <th>Temperature</th>\n",
              "      <th>Rainfall</th>\n",
              "    </tr>\n",
              "  </thead>\n",
              "  <tbody>\n",
              "    <tr>\n",
              "      <th>21</th>\n",
              "      <td>1979</td>\n",
              "      <td>39.42</td>\n",
              "      <td>NaN</td>\n",
              "    </tr>\n",
              "    <tr>\n",
              "      <th>54</th>\n",
              "      <td>2012</td>\n",
              "      <td>38.01</td>\n",
              "      <td>3.00</td>\n",
              "    </tr>\n",
              "    <tr>\n",
              "      <th>11</th>\n",
              "      <td>1967</td>\n",
              "      <td>35.26</td>\n",
              "      <td>5.00</td>\n",
              "    </tr>\n",
              "    <tr>\n",
              "      <th>50</th>\n",
              "      <td>2008</td>\n",
              "      <td>34.81</td>\n",
              "      <td>5.20</td>\n",
              "    </tr>\n",
              "    <tr>\n",
              "      <th>45</th>\n",
              "      <td>2003</td>\n",
              "      <td>32.40</td>\n",
              "      <td>NaN</td>\n",
              "    </tr>\n",
              "    <tr>\n",
              "      <th>...</th>\n",
              "      <td>...</td>\n",
              "      <td>...</td>\n",
              "      <td>...</td>\n",
              "    </tr>\n",
              "    <tr>\n",
              "      <th>41</th>\n",
              "      <td>1999</td>\n",
              "      <td>9.68</td>\n",
              "      <td>1.32</td>\n",
              "    </tr>\n",
              "    <tr>\n",
              "      <th>28</th>\n",
              "      <td>1986</td>\n",
              "      <td>9.55</td>\n",
              "      <td>1.45</td>\n",
              "    </tr>\n",
              "    <tr>\n",
              "      <th>6</th>\n",
              "      <td>1962</td>\n",
              "      <td>8.77</td>\n",
              "      <td>2.00</td>\n",
              "    </tr>\n",
              "    <tr>\n",
              "      <th>59</th>\n",
              "      <td>1971</td>\n",
              "      <td>NaN</td>\n",
              "      <td>3.92</td>\n",
              "    </tr>\n",
              "    <tr>\n",
              "      <th>60</th>\n",
              "      <td>1975</td>\n",
              "      <td>NaN</td>\n",
              "      <td>3.35</td>\n",
              "    </tr>\n",
              "  </tbody>\n",
              "</table>\n",
              "<p>61 rows × 3 columns</p>\n",
              "</div>"
            ],
            "text/plain": [
              "    Year  Temperature  Rainfall\n",
              "21  1979        39.42       NaN\n",
              "54  2012        38.01      3.00\n",
              "11  1967        35.26      5.00\n",
              "50  2008        34.81      5.20\n",
              "45  2003        32.40       NaN\n",
              "..   ...          ...       ...\n",
              "41  1999         9.68      1.32\n",
              "28  1986         9.55      1.45\n",
              "6   1962         8.77      2.00\n",
              "59  1971          NaN      3.92\n",
              "60  1975          NaN      3.35\n",
              "\n",
              "[61 rows x 3 columns]"
            ]
          },
          "metadata": {
            "tags": []
          },
          "execution_count": 14
        }
      ]
    },
    {
      "cell_type": "markdown",
      "metadata": {
        "id": "9kKei-twFZdS"
      },
      "source": [
        "![image.png](data:image/png;base64,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)"
      ]
    },
    {
      "cell_type": "markdown",
      "metadata": {
        "id": "5FeBJYv3FixF"
      },
      "source": [
        "![image.png](data:image/png;base64,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)"
      ]
    },
    {
      "cell_type": "code",
      "metadata": {
        "id": "C8QgeQfdFiT4",
        "outputId": "d61a66b2-adb8-4cf3-9a0e-389b3680f41f",
        "colab": {
          "base_uri": "https://localhost:8080/",
          "height": 529
        }
      },
      "source": [
        "plt.figure(figsize=[12,6])\n",
        "sns.jointplot('Rainfall', 'Temperature', data=df_merge, kind='reg')"
      ],
      "execution_count": 15,
      "outputs": [
        {
          "output_type": "stream",
          "text": [
            "/usr/local/lib/python3.6/dist-packages/seaborn/_decorators.py:43: FutureWarning: Pass the following variables as keyword args: x, y. From version 0.12, the only valid positional argument will be `data`, and passing other arguments without an explicit keyword will result in an error or misinterpretation.\n",
            "  FutureWarning\n"
          ],
          "name": "stderr"
        },
        {
          "output_type": "execute_result",
          "data": {
            "text/plain": [
              "<seaborn.axisgrid.JointGrid at 0x7f5ab47db668>"
            ]
          },
          "metadata": {
            "tags": []
          },
          "execution_count": 15
        },
        {
          "output_type": "display_data",
          "data": {
            "text/plain": [
              "<Figure size 864x432 with 0 Axes>"
            ]
          },
          "metadata": {
            "tags": []
          }
        },
        {
          "output_type": "display_data",
          "data": {
            "image/png": "[encoded data removed]",
            "text/plain": [
              "<Figure size 432x432 with 3 Axes>"
            ]
          },
          "metadata": {
            "tags": [],
            "needs_background": "light"
          }
        }
      ]
    }
  ]
}