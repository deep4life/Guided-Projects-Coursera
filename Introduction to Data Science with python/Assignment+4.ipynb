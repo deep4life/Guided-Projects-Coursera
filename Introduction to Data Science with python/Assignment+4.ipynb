{
 "cells": [
  {
   "cell_type": "markdown",
   "metadata": {},
   "source": [
    "---\n",
    "\n",
    "_You are currently looking at **version 1.1** of this notebook. To download notebooks and datafiles, as well as get help on Jupyter notebooks in the Coursera platform, visit the [Jupyter Notebook FAQ](https://www.coursera.org/learn/python-data-analysis/resources/0dhYG) course resource._\n",
    "\n",
    "---"
   ]
  },
  {
   "cell_type": "code",
   "execution_count": 1,
   "metadata": {
    "collapsed": true
   },
   "outputs": [],
   "source": [
    "import pandas as pd\n",
    "import numpy as np\n",
    "from scipy.stats import ttest_ind"
   ]
  },
  {
   "cell_type": "markdown",
   "metadata": {},
   "source": [
    "# Assignment 4 - Hypothesis Testing\n",
    "This assignment requires more individual learning than previous assignments - you are encouraged to check out the [pandas documentation](http://pandas.pydata.org/pandas-docs/stable/) to find functions or methods you might not have used yet, or ask questions on [Stack Overflow](http://stackoverflow.com/) and tag them as pandas and python related. And of course, the discussion forums are open for interaction with your peers and the course staff.\n",
    "\n",
    "Definitions:\n",
    "* A _quarter_ is a specific three month period, Q1 is January through March, Q2 is April through June, Q3 is July through September, Q4 is October through December.\n",
    "* A _recession_ is defined as starting with two consecutive quarters of GDP decline, and ending with two consecutive quarters of GDP growth.\n",
    "* A _recession bottom_ is the quarter within a recession which had the lowest GDP.\n",
    "* A _university town_ is a city which has a high percentage of university students compared to the total population of the city.\n",
    "\n",
    "**Hypothesis**: University towns have their mean housing prices less effected by recessions. Run a t-test to compare the ratio of the mean price of houses in university towns the quarter before the recession starts compared to the recession bottom. (`price_ratio=quarter_before_recession/recession_bottom`)\n",
    "\n",
    "The following data files are available for this assignment:\n",
    "* From the [Zillow research data site](http://www.zillow.com/research/data/) there is housing data for the United States. In particular the datafile for [all homes at a city level](http://files.zillowstatic.com/research/public/City/City_Zhvi_AllHomes.csv), ```City_Zhvi_AllHomes.csv```, has median home sale prices at a fine grained level.\n",
    "* From the Wikipedia page on college towns is a list of [university towns in the United States](https://en.wikipedia.org/wiki/List_of_college_towns#College_towns_in_the_United_States) which has been copy and pasted into the file ```university_towns.txt```.\n",
    "* From Bureau of Economic Analysis, US Department of Commerce, the [GDP over time](http://www.bea.gov/national/index.htm#gdp) of the United States in current dollars (use the chained value in 2009 dollars), in quarterly intervals, in the file ```gdplev.xls```. For this assignment, only look at GDP data from the first quarter of 2000 onward.\n",
    "\n",
    "Each function in this assignment below is worth 10%, with the exception of ```run_ttest()```, which is worth 50%."
   ]
  },
  {
   "cell_type": "code",
   "execution_count": 2,
   "metadata": {
    "collapsed": true
   },
   "outputs": [],
   "source": [
    "# Use this dictionary to map state names to two letter acronyms\n",
    "states = {'OH': 'Ohio', 'KY': 'Kentucky', 'AS': 'American Samoa', 'NV': 'Nevada', 'WY': 'Wyoming', 'NA': 'National', 'AL': 'Alabama', 'MD': 'Maryland', 'AK': 'Alaska', 'UT': 'Utah', 'OR': 'Oregon', 'MT': 'Montana', 'IL': 'Illinois', 'TN': 'Tennessee', 'DC': 'District of Columbia', 'VT': 'Vermont', 'ID': 'Idaho', 'AR': 'Arkansas', 'ME': 'Maine', 'WA': 'Washington', 'HI': 'Hawaii', 'WI': 'Wisconsin', 'MI': 'Michigan', 'IN': 'Indiana', 'NJ': 'New Jersey', 'AZ': 'Arizona', 'GU': 'Guam', 'MS': 'Mississippi', 'PR': 'Puerto Rico', 'NC': 'North Carolina', 'TX': 'Texas', 'SD': 'South Dakota', 'MP': 'Northern Mariana Islands', 'IA': 'Iowa', 'MO': 'Missouri', 'CT': 'Connecticut', 'WV': 'West Virginia', 'SC': 'South Carolina', 'LA': 'Louisiana', 'KS': 'Kansas', 'NY': 'New York', 'NE': 'Nebraska', 'OK': 'Oklahoma', 'FL': 'Florida', 'CA': 'California', 'CO': 'Colorado', 'PA': 'Pennsylvania', 'DE': 'Delaware', 'NM': 'New Mexico', 'RI': 'Rhode Island', 'MN': 'Minnesota', 'VI': 'Virgin Islands', 'NH': 'New Hampshire', 'MA': 'Massachusetts', 'GA': 'Georgia', 'ND': 'North Dakota', 'VA': 'Virginia'}"
   ]
  },
  {
   "cell_type": "code",
   "execution_count": 3,
   "metadata": {
    "collapsed": true,
    "umich_part_id": "021",
    "umich_partlist_id": "004"
   },
   "outputs": [],
   "source": [
    "def get_list_of_university_towns():\n",
    "    '''Returns a DataFrame of towns and the states they are in from the \n",
    "    university_towns.txt list. The format of the DataFrame should be:\n",
    "    DataFrame( [ [\"Michigan\", \"Ann Arbor\"], [\"Michigan\", \"Yipsilanti\"] ], \n",
    "    columns=[\"State\", \"RegionName\"]  )\n",
    "\n",
    "    The following cleaning needs to be done:\n",
    "\n",
    "    1. For \"State\", removing characters from \"[\" to the end.\n",
    "    2. For \"RegionName\", when applicable, removing every character from \" (\" to the end.\n",
    "    3. Depending on how you read the data, you may need to remove newline character '\\n'. '''\n",
    "    \n",
    "    data = pd.read_csv(\"university_towns.txt\",sep='\\n', header=None, names=['col'])\n",
    "    data['State'] = [df.split('[')[0] if 'edit' in df else np.NaN for df in data['col']]\n",
    "    data['State'].ffill(inplace=True)\n",
    "    data['RegionName'] = [df.split(' (')[0] if 'edit' not in df else np.NaN for df in data['col']]\n",
    "    data.drop(['col'], axis=1, inplace=True)\n",
    "    data.dropna(inplace=True)\n",
    "\n",
    "    return data"
   ]
  },
  {
   "cell_type": "code",
   "execution_count": 4,
   "metadata": {
    "collapsed": true,
    "umich_part_id": "022",
    "umich_partlist_id": "004"
   },
   "outputs": [],
   "source": [
    "def get_recession_start():\n",
    "    '''Returns the year and quarter of the recession start time as a \n",
    "    string value in a format such as 2005q3'''\n",
    "    data = pd.read_excel(\"gdplev.xls\", skiprows=219, usecols=[4,6])\n",
    "    data.columns=['Quarter','GDP']\n",
    "    data['GDP Diff'] = data['GDP'].diff()\n",
    "    dec = data[data['GDP Diff']<0]\n",
    "    dec['index'] = dec.index\n",
    "    dec['index diff'] = dec['index'].diff()\n",
    "    minindex = dec['index diff'].idxmin()\n",
    "    res = data['Quarter'].iloc[minindex-1]\n",
    "\n",
    "    return res"
   ]
  },
  {
   "cell_type": "code",
   "execution_count": 5,
   "metadata": {
    "collapsed": true,
    "umich_part_id": "023",
    "umich_partlist_id": "004"
   },
   "outputs": [],
   "source": [
    "def get_recession_end():\n",
    "    '''Returns the year and quarter of the recession end time as a \n",
    "    string value in a format such as 2005q3'''\n",
    "    data = pd.read_excel(\"gdplev.xls\", skiprows=219, usecols=[4,6])\n",
    "    data.columns=['Quarter','GDP']\n",
    "    data['GDP Diff'] = data['GDP'].diff()\n",
    "    dec = data[data['GDP Diff']>0]\n",
    "    dec['index'] = dec.index\n",
    "    dec['index diff'] = dec['index'].diff()\n",
    "    maxindex = dec['index diff'].idxmax()\n",
    "    res = data['Quarter'].iloc[maxindex+1]\n",
    "       \n",
    "    return res"
   ]
  },
  {
   "cell_type": "code",
   "execution_count": 6,
   "metadata": {
    "collapsed": true,
    "umich_part_id": "024",
    "umich_partlist_id": "004"
   },
   "outputs": [],
   "source": [
    "def get_recession_bottom():\n",
    "    '''Returns the year and quarter of the recession bottom time as a \n",
    "    string value in a format such as 2005q3'''\n",
    "    data = pd.read_excel(\"gdplev.xls\", skiprows=219, usecols=[4,6])\n",
    "    data.columns=['Quarter','GDP']\n",
    "    data['GDP Diff'] = data['GDP'].diff()\n",
    "    dec=data[data['GDP Diff']<0]\n",
    "    dec['index'] = dec.index\n",
    "    dec['index diff'] = dec['index'].diff()\n",
    "    dec.sort(ascending=False,inplace=True)\n",
    "    minindex = dec['index diff'].idxmin()\n",
    "    res = data['Quarter'].iloc[minindex]\n",
    "    return res"
   ]
  },
  {
   "cell_type": "code",
   "execution_count": 7,
   "metadata": {
    "collapsed": true,
    "umich_part_id": "025",
    "umich_partlist_id": "004"
   },
   "outputs": [],
   "source": [
    "def convert_housing_data_to_quarters():\n",
    "    '''Converts the housing data to quarters and returns it as mean \n",
    "    values in a dataframe. This dataframe should be a dataframe with\n",
    "    columns for 2000q1 through 2016q3, and should have a multi-index\n",
    "    in the shape of [\"State\",\"RegionName\"].\n",
    "    \n",
    "    Note: Quarters are defined in the assignment description, they are\n",
    "    not arbitrary three month periods.\n",
    "    \n",
    "    The resulting dataframe should have 67 columns, and 10,730 rows.\n",
    "    '''\n",
    "    data = pd.read_csv(\"City_Zhvi_AllHomes.csv\")\n",
    "    data.replace({'State':states},inplace=True)\n",
    "    data.set_index(['State','RegionName'],inplace=True)\n",
    "    Index = data.index\n",
    "    data.reset_index(inplace=True)\n",
    "    df = data.loc[:,'2000-01':'2016-08']\n",
    "\n",
    "    s=[]\n",
    "\n",
    "    for j in range(0,199,3):\n",
    "        a=[]    \n",
    "        for i in range(3):\n",
    "            if j+i < 200:\n",
    "                a.append(df.iloc[:,j+i])\n",
    "        s.append(a)\n",
    "\n",
    "\n",
    "    # len(s)\n",
    "    # s\n",
    "    l1=[]\n",
    "    for i in range(0,len(s)):\n",
    "        l1.append(pd.DataFrame(s[i]).mean())\n",
    "\n",
    "\n",
    "    columns=['2000q1','2000q2','2000q3','2000q4','2001q1','2001q2','2001q3','2001q4','2002q1','2002q2','2002q3','2002q4',\n",
    "                '2003q1','2003q2','2003q3','2003q4','2004q1','2004q2','2004q3','2004q4','2005q1','2005q2','2005q3','2005q4',\n",
    "             '2006q1','2006q2','2006q3','2006q4',   \n",
    "             '2007q1','2007q2','2007q3','2007q4','2008q1','2008q2','2008q3','2008q4','2009q1','2009q2','2009q3','2009q4',\n",
    "                '2010q1','2010q2','2010q3','2010q4','2011q1','2011q2','2011q3','2011q4','2012q1','2012q2','2012q3','2012q4',\n",
    "                '2013q1','2013q2','2013q3','2013q4','2014q1','2014q2','2014q3','2014q4','2015q1','2015q2','2015q3','2015q4',\n",
    "                '2016q1','2016q2','2016q3']\n",
    "\n",
    "    df = pd.DataFrame(np.transpose(l1))\n",
    "    df.columns=columns\n",
    "    df.index=Index\n",
    "\n",
    "    return df"
   ]
  },
  {
   "cell_type": "code",
   "execution_count": 8,
   "metadata": {
    "umich_part_id": "026",
    "umich_partlist_id": "004"
   },
   "outputs": [],
   "source": [
    "def run_ttest():\n",
    "\n",
    "    \"\"\"# First create new data showing the decline or growth of housing prices\n",
    "    # between the recession start and the recession bottom. Then run a ttest\n",
    "    # comparing the university town values to the non-university towns values, \n",
    "    # return whether the alternative hypothesis (that the two groups are the same)\n",
    "    # is true or not as well as the p-value of the confidence. \n",
    "\n",
    "    # Return the tuple (different, p, better) where different=True if the t-test is\n",
    "    # True at a p<0.01 (we reject the null hypothesis), or different=False if \n",
    "    # otherwise (we cannot reject the null hypothesis). The variable p should\n",
    "    # be equal to the exact p value returned from scipy.stats.ttest_ind(). The\n",
    "    # value for better should be either \"university town\" or \"non-university town\"\n",
    "    # depending on which has a lower mean price ratio (which is equivilent to a\n",
    "    # reduced market loss).\"\"\"\n",
    "    \n",
    "    data = convert_housing_data_to_quarters()\n",
    "    before_rec = (data.columns.get_loc(get_recession_start())-1)\n",
    "    rec_bottom = data.columns.get_loc(get_recession_bottom())\n",
    "\n",
    "    df = np.divide(data.iloc[:,before_rec], data.iloc[:,rec_bottom]).dropna()\n",
    "    df=pd.DataFrame(df)\n",
    "    uni = get_list_of_university_towns().set_index(['State','RegionName'])\n",
    "    uni_towns = df.merge(uni, right_index=True,left_index=True,how='inner')\n",
    "    non_uni_towns = df.drop(uni_towns.index)\n",
    "\n",
    "    # A t-test is commonly used to determine whether the mean of a population significantly\n",
    "    # differs from a specific value (called the hypothesized mean) or from the mean of another population.\n",
    "\n",
    "    p_value = ttest_ind(uni_towns, non_uni_towns).pvalue\n",
    "\n",
    "    if p_value < 0.01:\n",
    "        different=True\n",
    "    else:\n",
    "        different=False\n",
    "\n",
    "\n",
    "    if uni_towns.mean().values < non_uni_towns.mean().values:\n",
    "        better='university town'\n",
    "    else:\n",
    "        better='non-university town'\n",
    "\n",
    "    p = p_value[0]\n",
    "\n",
    "\n",
    "    return (different, p, better)"
   ]
  }
 ],
 "metadata": {
  "coursera": {
   "course_slug": "python-data-analysis",
   "graded_item_id": "Il9Fx",
   "launcher_item_id": "TeDW0",
   "part_id": "WGlun"
  },
  "kernelspec": {
   "display_name": "Python 3",
   "language": "python",
   "name": "python3"
  },
  "language_info": {
   "codemirror_mode": {
    "name": "ipython",
    "version": 3
   },
   "file_extension": ".py",
   "mimetype": "text/x-python",
   "name": "python",
   "nbconvert_exporter": "python",
   "pygments_lexer": "ipython3",
   "version": "3.6.2"
  },
  "umich": {
   "id": "Assignment 4",
   "version": "1.1"
  }
 },
 "nbformat": 4,
 "nbformat_minor": 1
}
